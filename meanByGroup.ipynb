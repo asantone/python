{
  "nbformat": 4,
  "nbformat_minor": 0,
  "metadata": {
    "colab": {
      "name": "nb001.ipynb",
      "provenance": [],
      "authorship_tag": "ABX9TyOI8YANXO+Fl50fWZliY1T9",
      "include_colab_link": true
    },
    "kernelspec": {
      "name": "python3",
      "display_name": "Python 3"
    }
  },
  "cells": [
    {
      "cell_type": "markdown",
      "metadata": {
        "id": "view-in-github",
        "colab_type": "text"
      },
      "source": [
        "<a href=\"https://colab.research.google.com/github/asantone/python/blob/master/meanByGroup.ipynb\" target=\"_parent\"><img src=\"https://colab.research.google.com/assets/colab-badge.svg\" alt=\"Open In Colab\"/></a>"
      ]
    },
    {
      "cell_type": "markdown",
      "metadata": {
        "id": "9py-Bao552sB",
        "colab_type": "text"
      },
      "source": [
        "Intro text"
      ]
    },
    {
      "cell_type": "code",
      "metadata": {
        "id": "_GzLT_KZ5zA9",
        "colab_type": "code",
        "colab": {
          "base_uri": "https://localhost:8080/",
          "height": 570
        },
        "outputId": "473f8f7a-1fed-48a0-c14d-eeeeda77cd2b"
      },
      "source": [
        "import numpy as np\n",
        "import matplotlib.pyplot as plt\n",
        "import pandas as pd\n",
        "import seaborn as sns\n",
        "\n",
        "url_control = 'https://raw.githubusercontent.com/asantone/python/master/data/control.csv'\n",
        "url_treatment = 'https://raw.githubusercontent.com/asantone/python/master/data/treatment.csv'\n",
        "\n",
        "control = pd.read_csv(url_control) \n",
        "treatment = pd.read_csv(url_treatment) \n",
        "\n",
        "#print(control.head(5))\n",
        "#print(treatment.head(5))\n",
        "\n",
        "control['condition'] = np.resize('control',len(control))\n",
        "treatment['condition'] = np.resize('treatment',len(treatment))\n",
        "#print(control.head(5))\n",
        "#print(treatment.head(5))\n",
        "\n",
        "frames = [control,treatment]\n",
        "\n",
        "data = pd.concat(frames)\n",
        "\n",
        "#print(data.head(5))\n",
        "\n",
        "melted = pd.melt(data,\n",
        "                       ['id','condition'],\n",
        "                       var_name='time',\n",
        "                       value_name='value')\n",
        "#melted = melted.sort_values(by=['id','time'])\n",
        "#melted.head(10)\n",
        "\n",
        "#convert character values to numeric\n",
        "melted.time = melted.time.astype(float)\n",
        "\n",
        "print(melted.head(5))\n",
        "\n",
        "#average by x value\n",
        "#avg = np.mean(melted.time, axis=1)\n",
        "#avg.head(5)\n",
        "#summary = melted.describe(include= 'all')\n",
        "#summary = summary.transpose()\n",
        "\n",
        "#summarize data by obtaining means for each time level by condition\n",
        "summary = melted.groupby(['time','condition'], as_index=False)['value'].mean()\n",
        "#print(summary.head(5))\n",
        "\n",
        "#my_color=np.where(condition='treatment', 'orange', 'skyblue')\n",
        "\n",
        "\n",
        "#melted.plot(kind='scatter',x='time',y='value',color='red')\n",
        "#melted.plot(kind='line',x='time',y='value', hue='condition')\n",
        "#melted.plot(kind='line',x='time',y='value', color='condition')\n",
        "\n",
        "#shows all data\n",
        "#sns.lmplot('time', 'value', data=melted, hue='condition', fit_reg=False)\n",
        "\n",
        "#shows summarized means\n",
        "sns.lmplot('time', 'value', data=summary, hue='condition', fit_reg=False)\n",
        "plt.show()"
      ],
      "execution_count": 7,
      "outputs": [
        {
          "output_type": "stream",
          "text": [
            "   id condition  time  value\n",
            "0   1   control   1.0      4\n",
            "1   2   control   1.0      2\n",
            "2   3   control   1.0      4\n",
            "3   4   control   1.0      2\n",
            "4   5   control   1.0      2\n",
            "   time  condition  value\n",
            "0   1.0    control   2.90\n",
            "1   1.0  treatment   3.00\n",
            "2   2.0    control   3.45\n",
            "3   2.0  treatment   6.10\n",
            "4   3.0    control   2.90\n"
          ],
          "name": "stdout"
        },
        {
          "output_type": "display_data",
          "data": {
            "image/png": "[encoded data removed]",
            "text/plain": [
              "<Figure size 445.875x360 with 1 Axes>"
            ]
          },
          "metadata": {
            "tags": [],
            "needs_background": "light"
          }
        }
      ]
    },
    {
      "cell_type": "code",
      "metadata": {
        "id": "HULNwwgE6ER6",
        "colab_type": "code",
        "colab": {}
      },
      "source": [
        ""
      ],
      "execution_count": null,
      "outputs": []
    }
  ]
}