{
  "nbformat": 4,
  "nbformat_minor": 0,
  "metadata": {
    "colab": {
      "name": "nb001.ipynb",
      "provenance": [],
      "authorship_tag": "ABX9TyPPcUrZmv+ydhTOF1ctEOSz",
      "include_colab_link": true
    },
    "kernelspec": {
      "name": "python3",
      "display_name": "Python 3"
    }
  },
  "cells": [
    {
      "cell_type": "markdown",
      "metadata": {
        "id": "view-in-github",
        "colab_type": "text"
      },
      "source": [
        "<a href=\"https://colab.research.google.com/github/asantone/python/blob/master/readCSV.ipynb\" target=\"_parent\"><img src=\"https://colab.research.google.com/assets/colab-badge.svg\" alt=\"Open In Colab\"/></a>"
      ]
    },
    {
      "cell_type": "markdown",
      "metadata": {
        "id": "9py-Bao552sB",
        "colab_type": "text"
      },
      "source": [
        "Intro text"
      ]
    },
    {
      "cell_type": "code",
      "metadata": {
        "id": "_GzLT_KZ5zA9",
        "colab_type": "code",
        "colab": {
          "base_uri": "https://localhost:8080/",
          "height": 286
        },
        "outputId": "a945c645-1d4b-4524-ed52-15d8244fa5bb"
      },
      "source": [
        "import numpy as np\n",
        "import matplotlib.pyplot as plt\n",
        "import pandas as pd\n",
        "\n",
        "url_control = 'https://raw.githubusercontent.com/asantone/python/master/data/control.csv'\n",
        "url_treatment = 'https://raw.githubusercontent.com/asantone/python/master/data/treatment.csv'\n",
        "\n",
        "control = pd.read_csv(url_control) \n",
        "treatment = pd.read_csv(url_treatment) \n",
        "\n",
        "print(control.head(5))\n",
        "print(treatment.head(5))"
      ],
      "execution_count": 22,
      "outputs": [
        {
          "output_type": "stream",
          "text": [
            "   id  1  2  3  4  5  6  7  8  9  ...  15  16  17  18  19  20  21  22  23  24\n",
            "0   1  4  2  4  3  1  5  2  2  2  ...   2   3   2   1   1   4   2   3   3   2\n",
            "1   2  2  5  3  2  2  5  3  5  4  ...   3   5   3   5   4   1   1   1   1   1\n",
            "2   3  4  5  2  3  5  4  5  4  2  ...   2   3   2   5   1   4   2   5   5   3\n",
            "3   4  2  3  2  5  3  1  2  4  5  ...   4   4   2   1   1   2   1   4   4   2\n",
            "4   5  2  1  2  4  3  3  1  1  2  ...   4   2   2   2   5   2   2   3   4   4\n",
            "\n",
            "[5 rows x 25 columns]\n",
            "   id  1  2   3   4   5   6   7   8   9  ...  15  16  17  18  19  20  21  22  23  24\n",
            "0   1  4  9  14  17  22  26  30  31  34  ...  52  57  62  63  68  70  74  75  79  84\n",
            "1   2  1  3   5  10  11  13  18  21  22  ...  35  36  38  42  44  49  54  56  61  66\n",
            "2   3  3  6   9  10  11  12  14  19  21  ...  36  40  43  48  50  55  56  58  60  61\n",
            "3   4  4  6  10  11  14  15  19  24  27  ...  48  53  54  58  59  62  66  71  73  77\n",
            "4   5  3  7  10  13  17  20  24  26  29  ...  46  48  51  52  53  55  59  62  63  68\n",
            "\n",
            "[5 rows x 25 columns]\n"
          ],
          "name": "stdout"
        }
      ]
    },
    {
      "cell_type": "code",
      "metadata": {
        "id": "HULNwwgE6ER6",
        "colab_type": "code",
        "colab": {}
      },
      "source": [
        ""
      ],
      "execution_count": null,
      "outputs": []
    }
  ]
}